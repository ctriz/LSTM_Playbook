{
 "cells": [
  {
   "cell_type": "code",
   "execution_count": 24,
   "metadata": {},
   "outputs": [],
   "source": [
    "# This Python 3 environment comes with many helpful analytics libraries installed\n",
    "# It is defined by the kaggle/python docker image: https://github.com/kaggle/docker-python\n",
    "# For example, here's several helpful packages to load in \n",
    "#!/usr/bin/env python\n",
    "# coding: utf-8\n"
   ]
  },
  {
   "cell_type": "code",
   "execution_count": 30,
   "metadata": {},
   "outputs": [],
   "source": [
    "#For data processing\n",
    "import pandas as pd\n",
    "import numpy as np\n",
    "import datetime as dt\n",
    "\n",
    "#For data visualization\n",
    "import matplotlib.pyplot as plt\n",
    "import seaborn as sns\n",
    "\n",
    "#For models\n",
    "from sklearn import metrics\n",
    "from sklearn.preprocessing import MinMaxScaler\n",
    "from keras.models import Sequential\n",
    "from keras.layers import Dense\n",
    "from keras.layers import LSTM\n",
    "from keras.layers import Dropout\n",
    "\n",
    "# IMPORTING IMPORTANT LIBRARIES\n",
    "import pandas as pd\n",
    "import matplotlib.pyplot as plt\n",
    "import numpy as np \n",
    "import math\n",
    "from sklearn.preprocessing import MinMaxScaler\n",
    "from sklearn.metrics import mean_squared_error\n",
    "from keras.models import Sequential\n",
    "from keras.layers import Dense, Activation\n",
    "from keras.layers import LSTM\n",
    "from keras.optimizers import RMSprop, SGD, Adam\n",
    "import preprocessing \n",
    "import yfinance as yf\n",
    "from datetime import datetime\n",
    "import warnings\n",
    "warnings.filterwarnings(\"ignore\")"
   ]
  },
  {
   "cell_type": "code",
   "execution_count": 69,
   "metadata": {
    "scrolled": true
   },
   "outputs": [],
   "source": [
    "df =  pd.read_csv(\"data\\stock.csv\")"
   ]
  },
  {
   "cell_type": "code",
   "execution_count": 70,
   "metadata": {
    "scrolled": false
   },
   "outputs": [
    {
     "data": {
      "text/html": [
       "<div>\n",
       "<style scoped>\n",
       "    .dataframe tbody tr th:only-of-type {\n",
       "        vertical-align: middle;\n",
       "    }\n",
       "\n",
       "    .dataframe tbody tr th {\n",
       "        vertical-align: top;\n",
       "    }\n",
       "\n",
       "    .dataframe thead th {\n",
       "        text-align: right;\n",
       "    }\n",
       "</style>\n",
       "<table border=\"1\" class=\"dataframe\">\n",
       "  <thead>\n",
       "    <tr style=\"text-align: right;\">\n",
       "      <th></th>\n",
       "      <th>Date</th>\n",
       "      <th>Open</th>\n",
       "      <th>High</th>\n",
       "      <th>Low</th>\n",
       "      <th>Close</th>\n",
       "      <th>Adj Close</th>\n",
       "      <th>Volume</th>\n",
       "    </tr>\n",
       "  </thead>\n",
       "  <tbody>\n",
       "    <tr>\n",
       "      <th>979</th>\n",
       "      <td>2017-12-22</td>\n",
       "      <td>914.650024</td>\n",
       "      <td>922.400024</td>\n",
       "      <td>909.299988</td>\n",
       "      <td>920.400024</td>\n",
       "      <td>906.417603</td>\n",
       "      <td>4872675</td>\n",
       "    </tr>\n",
       "    <tr>\n",
       "      <th>980</th>\n",
       "      <td>2017-12-26</td>\n",
       "      <td>924.849976</td>\n",
       "      <td>938.900024</td>\n",
       "      <td>918.150024</td>\n",
       "      <td>929.799988</td>\n",
       "      <td>915.674683</td>\n",
       "      <td>5301456</td>\n",
       "    </tr>\n",
       "    <tr>\n",
       "      <th>981</th>\n",
       "      <td>2017-12-27</td>\n",
       "      <td>933.000000</td>\n",
       "      <td>937.500000</td>\n",
       "      <td>919.000000</td>\n",
       "      <td>923.750000</td>\n",
       "      <td>909.716675</td>\n",
       "      <td>4352384</td>\n",
       "    </tr>\n",
       "    <tr>\n",
       "      <th>982</th>\n",
       "      <td>2017-12-28</td>\n",
       "      <td>925.250000</td>\n",
       "      <td>934.400024</td>\n",
       "      <td>919.099976</td>\n",
       "      <td>924.200012</td>\n",
       "      <td>910.159851</td>\n",
       "      <td>7091515</td>\n",
       "    </tr>\n",
       "    <tr>\n",
       "      <th>983</th>\n",
       "      <td>2017-12-29</td>\n",
       "      <td>926.500000</td>\n",
       "      <td>932.299988</td>\n",
       "      <td>918.500000</td>\n",
       "      <td>921.049988</td>\n",
       "      <td>907.057678</td>\n",
       "      <td>5069838</td>\n",
       "    </tr>\n",
       "  </tbody>\n",
       "</table>\n",
       "</div>"
      ],
      "text/plain": [
       "           Date        Open        High         Low       Close   Adj Close  \\\n",
       "979  2017-12-22  914.650024  922.400024  909.299988  920.400024  906.417603   \n",
       "980  2017-12-26  924.849976  938.900024  918.150024  929.799988  915.674683   \n",
       "981  2017-12-27  933.000000  937.500000  919.000000  923.750000  909.716675   \n",
       "982  2017-12-28  925.250000  934.400024  919.099976  924.200012  910.159851   \n",
       "983  2017-12-29  926.500000  932.299988  918.500000  921.049988  907.057678   \n",
       "\n",
       "      Volume  \n",
       "979  4872675  \n",
       "980  5301456  \n",
       "981  4352384  \n",
       "982  7091515  \n",
       "983  5069838  "
      ]
     },
     "execution_count": 70,
     "metadata": {},
     "output_type": "execute_result"
    }
   ],
   "source": [
    "df.tail(5)"
   ]
  },
  {
   "cell_type": "code",
   "execution_count": 71,
   "metadata": {},
   "outputs": [],
   "source": [
    "#creating test, train and validate trains\n",
    "train_size = int(df.shape[0] * 0.80)\n",
    "test_size = int(df.shape[0] * 0.20)"
   ]
  },
  {
   "cell_type": "code",
   "execution_count": 72,
   "metadata": {},
   "outputs": [],
   "source": [
    "train_set = df.iloc[0:train_size, 1:2].values\n",
    "test_set = df.iloc[train_size:, 1:2].values"
   ]
  },
  {
   "cell_type": "code",
   "execution_count": 73,
   "metadata": {},
   "outputs": [
    {
     "name": "stdout",
     "output_type": "stream",
     "text": [
      "(787, 1) (197, 1)\n"
     ]
    }
   ],
   "source": [
    "print(train_set.shape, test_set.shape)"
   ]
  },
  {
   "cell_type": "code",
   "execution_count": 74,
   "metadata": {},
   "outputs": [],
   "source": [
    "sc = MinMaxScaler(feature_range = (0, 1))\n",
    "train_set_scaled = sc.fit_transform(train_set)"
   ]
  },
  {
   "cell_type": "code",
   "execution_count": 75,
   "metadata": {},
   "outputs": [
    {
     "name": "stdout",
     "output_type": "stream",
     "text": [
      "(782, 3) (782,)\n"
     ]
    }
   ],
   "source": [
    "#Creating a data structure with given time_steps (=5) and 1 output\n",
    "# build the input features with time lag of 2 day (lag =2):\n",
    "\n",
    "time_step = 5\n",
    "lag = 2\n",
    "X_train = []\n",
    "y_train = []\n",
    "\n",
    "\n",
    "for i in range(5,len(train_set)):\n",
    "    X_train.append(train_set_scaled[i-(time_step-lag):i, 0])\n",
    "    y_train.append(train_set_scaled[i, 0]) \n",
    "X_train, y_train = np.array(X_train), np.array(y_train)\n",
    "print(X_train.shape, y_train.shape)"
   ]
  },
  {
   "cell_type": "code",
   "execution_count": 76,
   "metadata": {},
   "outputs": [
    {
     "name": "stdout",
     "output_type": "stream",
     "text": [
      "(782, 3, 1)\n"
     ]
    }
   ],
   "source": [
    "#reshape X_train to 3D array of dim sample size, time step, feature\n",
    "X_train = np.reshape(X_train, (X_train.shape[0], X_train.shape[1], 1))\n",
    "print(X_train.shape)"
   ]
  },
  {
   "cell_type": "code",
   "execution_count": 77,
   "metadata": {},
   "outputs": [],
   "source": [
    "# return validation data\n",
    "def get_val():\n",
    "\tseq = [[0.5, 0.6], [0.6, 0.7], [0.7, 0.8], [0.8, 0.9], [0.9, 1.0]]\n",
    "\tseq = array(seq)\n",
    "\tX, y = seq[:, 0], seq[:, 1]\n",
    "\tX = X.reshape((len(X), 1, 1))\n",
    "\treturn X, y"
   ]
  },
  {
   "cell_type": "code",
   "execution_count": 78,
   "metadata": {},
   "outputs": [],
   "source": [
    "from numpy import array\n",
    "valX, valY = get_val()"
   ]
  },
  {
   "cell_type": "code",
   "execution_count": 79,
   "metadata": {},
   "outputs": [
    {
     "name": "stdout",
     "output_type": "stream",
     "text": [
      "compilation time :  0.009999990463256836\n"
     ]
    }
   ],
   "source": [
    "#build model\n",
    "#build model\n",
    "\n",
    "model = Sequential()\n",
    "\n",
    "model.add(LSTM(units=128, return_sequences=True, input_shape=(X_train.shape[1],1)))\n",
    "model.add(Dropout(0.2))\n",
    "\n",
    "model.add(LSTM(units=64, return_sequences=False))\n",
    "model.add(Dropout(0.2))\n",
    "\n",
    "model.add(Dense(units = 1)) #output layer\n",
    "model.add(Activation('relu'))\n",
    "\n",
    "import time #helper libraries\n",
    "start = time.time()\n",
    "#opt = RMSprop(lr=0.01, momentum=0.0)\n",
    "opt = RMSprop()\n",
    "model.compile(optimizer = opt, loss = 'mean_squared_error', metrics = ['mean_absolute_error'])\n",
    "print ('compilation time : ', time.time() - start)"
   ]
  },
  {
   "cell_type": "code",
   "execution_count": 80,
   "metadata": {},
   "outputs": [
    {
     "name": "stdout",
     "output_type": "stream",
     "text": [
      "Epoch 1/15\n",
      "21/25 [========================>.....] - ETA: 0s - loss: 0.0121 - mean_absolute_error: 0.0782WARNING:tensorflow:Model was constructed with shape (None, 3, 1) for input Tensor(\"lstm_5_input:0\", shape=(None, 3, 1), dtype=float32), but it was called on an input with incompatible shape (None, 1, 1).\n",
      "25/25 [==============================] - 1s 57ms/step - loss: 0.0117 - mean_absolute_error: 0.0773 - val_loss: 0.4221 - val_mean_absolute_error: 0.6378\n",
      "Epoch 2/15\n",
      "25/25 [==============================] - 0s 12ms/step - loss: 0.0069 - mean_absolute_error: 0.0606 - val_loss: 0.4296 - val_mean_absolute_error: 0.6441\n",
      "Epoch 3/15\n",
      "25/25 [==============================] - 0s 12ms/step - loss: 0.0049 - mean_absolute_error: 0.0515 - val_loss: 0.4323 - val_mean_absolute_error: 0.6466\n",
      "Epoch 4/15\n",
      "25/25 [==============================] - 0s 13ms/step - loss: 0.0047 - mean_absolute_error: 0.0503 - val_loss: 0.4404 - val_mean_absolute_error: 0.6529\n",
      "Epoch 5/15\n",
      "25/25 [==============================] - 0s 12ms/step - loss: 0.0036 - mean_absolute_error: 0.0454 - val_loss: 0.4373 - val_mean_absolute_error: 0.6507\n",
      "Epoch 6/15\n",
      "25/25 [==============================] - 0s 13ms/step - loss: 0.0037 - mean_absolute_error: 0.0445 - val_loss: 0.4380 - val_mean_absolute_error: 0.6513\n",
      "Epoch 7/15\n",
      "25/25 [==============================] - 0s 13ms/step - loss: 0.0031 - mean_absolute_error: 0.0435 - val_loss: 0.4330 - val_mean_absolute_error: 0.6475\n",
      "Epoch 8/15\n",
      "25/25 [==============================] - 0s 12ms/step - loss: 0.0033 - mean_absolute_error: 0.0445 - val_loss: 0.4186 - val_mean_absolute_error: 0.6365\n",
      "Epoch 9/15\n",
      "25/25 [==============================] - 0s 12ms/step - loss: 0.0030 - mean_absolute_error: 0.0429 - val_loss: 0.4564 - val_mean_absolute_error: 0.6646\n",
      "Epoch 10/15\n",
      "25/25 [==============================] - 0s 12ms/step - loss: 0.0032 - mean_absolute_error: 0.0447 - val_loss: 0.4283 - val_mean_absolute_error: 0.6435\n",
      "Epoch 11/15\n",
      "25/25 [==============================] - 0s 12ms/step - loss: 0.0038 - mean_absolute_error: 0.0449 - val_loss: 0.4053 - val_mean_absolute_error: 0.6259\n",
      "Epoch 12/15\n",
      "25/25 [==============================] - 0s 12ms/step - loss: 0.0032 - mean_absolute_error: 0.0424 - val_loss: 0.3917 - val_mean_absolute_error: 0.6154\n",
      "Epoch 13/15\n",
      "25/25 [==============================] - 0s 12ms/step - loss: 0.0035 - mean_absolute_error: 0.0452 - val_loss: 0.3945 - val_mean_absolute_error: 0.6176\n",
      "Epoch 14/15\n",
      "25/25 [==============================] - 0s 12ms/step - loss: 0.0036 - mean_absolute_error: 0.0445 - val_loss: 0.3902 - val_mean_absolute_error: 0.6142\n",
      "Epoch 15/15\n",
      "25/25 [==============================] - 0s 12ms/step - loss: 0.0029 - mean_absolute_error: 0.0408 - val_loss: 0.3878 - val_mean_absolute_error: 0.6124\n"
     ]
    }
   ],
   "source": [
    "history = model.fit(X_train, y_train, epochs = 15, batch_size = 32, validation_data=(valX, valY), shuffle=False)"
   ]
  },
  {
   "cell_type": "code",
   "execution_count": 81,
   "metadata": {},
   "outputs": [
    {
     "name": "stdout",
     "output_type": "stream",
     "text": [
      "Model: \"sequential_3\"\n",
      "_________________________________________________________________\n",
      "Layer (type)                 Output Shape              Param #   \n",
      "=================================================================\n",
      "lstm_5 (LSTM)                (None, 3, 128)            66560     \n",
      "_________________________________________________________________\n",
      "dropout_4 (Dropout)          (None, 3, 128)            0         \n",
      "_________________________________________________________________\n",
      "lstm_6 (LSTM)                (None, 64)                49408     \n",
      "_________________________________________________________________\n",
      "dropout_5 (Dropout)          (None, 64)                0         \n",
      "_________________________________________________________________\n",
      "dense_3 (Dense)              (None, 1)                 65        \n",
      "_________________________________________________________________\n",
      "activation_2 (Activation)    (None, 1)                 0         \n",
      "=================================================================\n",
      "Total params: 116,033\n",
      "Trainable params: 116,033\n",
      "Non-trainable params: 0\n",
      "_________________________________________________________________\n"
     ]
    }
   ],
   "source": [
    "model.summary()"
   ]
  },
  {
   "cell_type": "code",
   "execution_count": 82,
   "metadata": {},
   "outputs": [
    {
     "data": {
      "image/png": "[encoded data removed]",
      "text/plain": [
       "<Figure size 432x288 with 1 Axes>"
      ]
     },
     "metadata": {
      "needs_background": "light"
     },
     "output_type": "display_data"
    }
   ],
   "source": [
    "# plot train and validation loss\n",
    "plt.plot(history.history['loss'])\n",
    "plt.plot(history.history['val_loss'])\n",
    "plt.title('model train vs validation loss')\n",
    "plt.ylabel('loss')\n",
    "plt.xlabel('epoch')\n",
    "plt.legend(['train', 'validation'], loc='upper right')\n",
    "plt.show()\n",
    "\n",
    "#if validation loss is high and no downward trend, its an underfit model. Try inc the capacity - input layers, hidden cells, etc.\n",
    "#if validation loss is high and has a trend, its an underfit model. Try inc the num of epochs\n",
    "# if validation loss is merging with train loss, its a ideal fit.\n",
    "# if both have merged and running parallel, try increasing the smaple size.\n"
   ]
  },
  {
   "cell_type": "code",
   "execution_count": 58,
   "metadata": {},
   "outputs": [
    {
     "data": {
      "text/plain": [
       "512"
      ]
     },
     "execution_count": 58,
     "metadata": {},
     "output_type": "execute_result"
    }
   ],
   "source": [
    "pred_len = round(train_size*0.65)\n",
    "pred_len"
   ]
  },
  {
   "cell_type": "code",
   "execution_count": 59,
   "metadata": {
    "scrolled": true
   },
   "outputs": [],
   "source": [
    "# Getting the predicted stock price of \n",
    "dataset_train = df.iloc[:pred_len, 1:2]\n",
    "dataset_test = df.iloc[pred_len:, 1:2]\n",
    "# dataset_train = df.iloc[:500, 1:2]\n",
    "# dataset_test = df.iloc[500:, 1:2]\n",
    "dataset_total = pd.concat((dataset_train, dataset_test), axis = 0)\n",
    "\n",
    "#input should also have the same time_step as the model\n",
    "inputs = dataset_total[len(dataset_total) - len(dataset_test) - time_step:].values\n",
    "\n"
   ]
  },
  {
   "cell_type": "code",
   "execution_count": 60,
   "metadata": {},
   "outputs": [
    {
     "data": {
      "text/plain": [
       "(477, 1)"
      ]
     },
     "execution_count": 60,
     "metadata": {},
     "output_type": "execute_result"
    }
   ],
   "source": [
    "inputs.shape"
   ]
  },
  {
   "cell_type": "code",
   "execution_count": 61,
   "metadata": {},
   "outputs": [
    {
     "name": "stdout",
     "output_type": "stream",
     "text": [
      "(472, 3, 1)\n"
     ]
    }
   ],
   "source": [
    "inputs = inputs.reshape(-1,1)\n",
    "inputs = sc.transform(inputs)\n",
    "X_test = []\n",
    "for i in range(time_step, len(inputs)):\n",
    "    X_test.append(inputs[i-(time_step-lag):i, 0])\n",
    "X_test = np.array(X_test)\n",
    "X_test = np.reshape(X_test, (X_test.shape[0], X_test.shape[1], 1))\n",
    "print(X_test.shape)"
   ]
  },
  {
   "cell_type": "code",
   "execution_count": 62,
   "metadata": {},
   "outputs": [],
   "source": [
    "predicted_stock_price = regressor.predict(X_test)\n",
    "predicted_stock_price = sc.inverse_transform(predicted_stock_price)"
   ]
  },
  {
   "cell_type": "code",
   "execution_count": 63,
   "metadata": {},
   "outputs": [
    {
     "data": {
      "text/plain": [
       "(472, 1)"
      ]
     },
     "execution_count": 63,
     "metadata": {},
     "output_type": "execute_result"
    }
   ],
   "source": [
    "predicted_stock_price.shape"
   ]
  },
  {
   "cell_type": "code",
   "execution_count": 64,
   "metadata": {},
   "outputs": [
    {
     "data": {
      "image/png": "[encoded data removed]",
      "text/plain": [
       "<Figure size 1440x720 with 1 Axes>"
      ]
     },
     "metadata": {
      "needs_background": "light"
     },
     "output_type": "display_data"
    }
   ],
   "source": [
    "# Visualising the results\n",
    "\n",
    "plt.figure(figsize=(20,10))\n",
    "plt.plot(dataset_test.values, color = 'green', label = 'SBI Stock Price')\n",
    "plt.plot(predicted_stock_price, color = 'red', label = 'Predicted SBI Stock Price')\n",
    "plt.title('SBI Stock Price Prediction')\n",
    "plt.xlabel('Trading Day')\n",
    "plt.ylabel('SBI Stock Price')\n",
    "plt.legend()\n",
    "plt.show()"
   ]
  },
  {
   "cell_type": "code",
   "execution_count": 65,
   "metadata": {},
   "outputs": [
    {
     "name": "stdout",
     "output_type": "stream",
     "text": [
      "MAE: 30.618805\n",
      "RMSE: 48.802779\n",
      "R2: 0.895803\n"
     ]
    }
   ],
   "source": [
    "from sklearn.metrics import mean_absolute_error, r2_score\n",
    "from math import sqrt\n",
    "mae = mean_absolute_error(dataset_test.values, predicted_stock_price)\n",
    "print('MAE: %f' % mae)\n",
    "\n",
    "\n",
    "mse = mean_squared_error(dataset_test.values, predicted_stock_price)\n",
    "rmse = sqrt(mse)\n",
    "print('RMSE: %f' % rmse)\n",
    "\n",
    "r2 = r2_score(dataset_test.values, predicted_stock_price)\n",
    "print('R2: %f' % r2)"
   ]
  },
  {
   "cell_type": "code",
   "execution_count": null,
   "metadata": {},
   "outputs": [],
   "source": []
  }
 ],
 "metadata": {
  "kernelspec": {
   "display_name": "Python 3",
   "language": "python",
   "name": "python3"
  },
  "language_info": {
   "codemirror_mode": {
    "name": "ipython",
    "version": 3
   },
   "file_extension": ".py",
   "mimetype": "text/x-python",
   "name": "python",
   "nbconvert_exporter": "python",
   "pygments_lexer": "ipython3",
   "version": "3.7.6"
  }
 },
 "nbformat": 4,
 "nbformat_minor": 4
}
